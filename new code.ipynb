{
 "cells": [
  {
   "cell_type": "code",
   "execution_count": 4,
   "id": "individual-memorial",
   "metadata": {
    "ExecuteTime": {
     "end_time": "2021-09-17T00:17:38.987123Z",
     "start_time": "2021-09-17T00:17:38.911122Z"
    }
   },
   "outputs": [],
   "source": [
    "import json\n",
    "import pandas as pd\n",
    "\n",
    "import urllib.request\n",
    "from sodapy import Socrata"
   ]
  },
  {
   "cell_type": "code",
   "execution_count": null,
   "id": "female-header",
   "metadata": {
    "ExecuteTime": {
     "end_time": "2021-09-17T00:11:39.320527Z",
     "start_time": "2021-09-17T00:11:39.317919Z"
    },
    "hide_input": false
   },
   "outputs": [],
   "source": [
    "#!/usr/bin/env python"
   ]
  },
  {
   "cell_type": "markdown",
   "id": "equal-preservation",
   "metadata": {},
   "source": [
    "### San Jose\n",
    "https://data.sanjoseca.gov/dataset/crashes-data/resource/15408d78-9734-4ea1-b3e5-a0f99568dd9b"
   ]
  },
  {
   "cell_type": "code",
   "execution_count": null,
   "id": "piano-basis",
   "metadata": {
    "ExecuteTime": {
     "end_time": "2021-09-17T00:07:03.135222Z",
     "start_time": "2021-09-17T00:07:02.350906Z"
    }
   },
   "outputs": [],
   "source": [
    "# data between 2011 and 2021\n",
    "url_2020 = 'https://data.sanjoseca.gov/api/3/action/datastore_search?resource_id=c19a01f2-33e1-4c66-9498-85d489f90da4'\n",
    "response_2020 = urllib.request.urlopen(url_2020)\n",
    "response_2020:dict = json.loads(response_2020.read())\n",
    "    \n",
    "# data between 2021 - present\n",
    "url_present = 'https://data.sanjoseca.gov/api/3/action/datastore_search?resource_id=15408d78-9734-4ea1-b3e5-a0f99568dd9b&limit=5&q=title:jones' \n",
    "response_present = urllib.request.urlopen(url_present)\n",
    "response_present:dict = json.loads(response_present.read())"
   ]
  },
  {
   "cell_type": "code",
   "execution_count": null,
   "id": "absolute-harmony",
   "metadata": {
    "ExecuteTime": {
     "end_time": "2021-09-17T00:07:05.485261Z",
     "start_time": "2021-09-17T00:07:05.457025Z"
    }
   },
   "outputs": [],
   "source": [
    "df_2020 = pd.DataFrame(response_2020['result']['records'])\n",
    "df_2020.head()"
   ]
  },
  {
   "cell_type": "code",
   "execution_count": null,
   "id": "passing-variety",
   "metadata": {
    "ExecuteTime": {
     "end_time": "2021-09-17T00:09:21.718695Z",
     "start_time": "2021-09-17T00:09:21.693330Z"
    }
   },
   "outputs": [],
   "source": [
    "df_2020['Lighting'].describe()"
   ]
  },
  {
   "cell_type": "code",
   "execution_count": null,
   "id": "verified-suite",
   "metadata": {
    "ExecuteTime": {
     "end_time": "2021-09-17T00:07:07.245005Z",
     "start_time": "2021-09-17T00:07:07.238978Z"
    }
   },
   "outputs": [],
   "source": [
    "df_present = pd.DataFrame(response_present['result']['records'])\n",
    "df_present.head()"
   ]
  },
  {
   "cell_type": "markdown",
   "id": "prescribed-magnitude",
   "metadata": {},
   "source": [
    "### Los Angeles\n",
    "https://dev.socrata.com/foundry/data.lacity.org/d5tf-ez2w"
   ]
  },
  {
   "cell_type": "code",
   "execution_count": 23,
   "id": "minus-contrary",
   "metadata": {
    "ExecuteTime": {
     "end_time": "2021-09-17T00:28:24.018500Z",
     "start_time": "2021-09-17T00:26:59.426443Z"
    }
   },
   "outputs": [
    {
     "name": "stderr",
     "output_type": "stream",
     "text": [
      "WARNING:root:Requests made without an app_token will be subject to strict throttling limits.\n"
     ]
    }
   ],
   "source": [
    "# TODO: consider just putting none\n",
    "client = Socrata(\"data.lacity.org\",\n",
    "                \"lbDYErZTsIGlkA3sRUDc8YRxh\",\n",
    "                username='samirasl@umich.edu',\n",
    "                password='SGbby123!987')\n",
    "\n",
    "# get all the data\n",
    "results = client.get(\"d5tf-ez2w\", limit=563869)"
   ]
  },
  {
   "cell_type": "code",
   "execution_count": 20,
   "id": "wicked-newfoundland",
   "metadata": {
    "ExecuteTime": {
     "end_time": "2021-09-17T00:25:02.642317Z",
     "start_time": "2021-09-17T00:24:59.166519Z"
    }
   },
   "outputs": [],
   "source": [
    "results_df = pd.DataFrame.from_records(results)"
   ]
  },
  {
   "cell_type": "code",
   "execution_count": 21,
   "id": "scientific-agriculture",
   "metadata": {
    "ExecuteTime": {
     "end_time": "2021-09-17T00:25:21.765451Z",
     "start_time": "2021-09-17T00:25:21.759888Z"
    }
   },
   "outputs": [
    {
     "data": {
      "text/plain": [
       "(563869, 24)"
      ]
     },
     "execution_count": 21,
     "metadata": {},
     "output_type": "execute_result"
    }
   ],
   "source": [
    "results_df.shape"
   ]
  },
  {
   "cell_type": "markdown",
   "id": "vanilla-ancient",
   "metadata": {},
   "source": [
    "### San Diego"
   ]
  },
  {
   "cell_type": "code",
   "execution_count": null,
   "id": "biological-cradle",
   "metadata": {},
   "outputs": [],
   "source": []
  }
 ],
 "metadata": {
  "hide_input": false,
  "kernelspec": {
   "display_name": "Python 3",
   "language": "python",
   "name": "python3"
  },
  "language_info": {
   "codemirror_mode": {
    "name": "ipython",
    "version": 3
   },
   "file_extension": ".py",
   "mimetype": "text/x-python",
   "name": "python",
   "nbconvert_exporter": "python",
   "pygments_lexer": "ipython3",
   "version": "3.7.1"
  },
  "toc": {
   "base_numbering": 1,
   "nav_menu": {},
   "number_sections": true,
   "sideBar": true,
   "skip_h1_title": false,
   "title_cell": "Table of Contents",
   "title_sidebar": "Contents",
   "toc_cell": false,
   "toc_position": {},
   "toc_section_display": true,
   "toc_window_display": false
  },
  "varInspector": {
   "cols": {
    "lenName": 16,
    "lenType": 16,
    "lenVar": 40
   },
   "kernels_config": {
    "python": {
     "delete_cmd_postfix": "",
     "delete_cmd_prefix": "del ",
     "library": "var_list.py",
     "varRefreshCmd": "print(var_dic_list())"
    },
    "r": {
     "delete_cmd_postfix": ") ",
     "delete_cmd_prefix": "rm(",
     "library": "var_list.r",
     "varRefreshCmd": "cat(var_dic_list()) "
    }
   },
   "types_to_exclude": [
    "module",
    "function",
    "builtin_function_or_method",
    "instance",
    "_Feature"
   ],
   "window_display": false
  }
 },
 "nbformat": 4,
 "nbformat_minor": 5
}
